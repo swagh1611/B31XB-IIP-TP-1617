{
 "cells": [
  {
   "cell_type": "markdown",
   "metadata": {},
   "source": [
    "# Introduction to Image Processing\n",
    "\n",
    " Mojdeh Rastgoo - Guillaume Lemaitre - Desire Sidibe\n",
    "\n",
    "## Basic transformation functions"
   ]
  },
  {
   "cell_type": "code",
   "execution_count": null,
   "metadata": {
    "collapsed": false
   },
   "outputs": [],
   "source": [
    "%matplotlib inline\n",
    "%pprint off\n",
    "\n",
    "# Matplotlib library\n",
    "import matplotlib.pyplot as plt\n",
    "from matplotlib import cm\n",
    "\n",
    "# Numpy library\n",
    "import numpy as np\n",
    "\n",
    "from skimage import io"
   ]
  },
  {
   "cell_type": "markdown",
   "metadata": {},
   "source": [
    "First, we will dig into the different basic transformation functions which allows to improve the contrast of grey scale images. All these functions are part of the `exposure` module of `skimage`."
   ]
  },
  {
   "cell_type": "code",
   "execution_count": null,
   "metadata": {
    "collapsed": true
   },
   "outputs": [],
   "source": [
    "# We can import this module now\n",
    "from skimage import exposure"
   ]
  },
  {
   "cell_type": "markdown",
   "metadata": {},
   "source": [
    "As previously done with the module `io`, you can use any function of this module using `exposure.name_of_the_function()`."
   ]
  },
  {
   "cell_type": "markdown",
   "metadata": {},
   "source": [
    "#### Log transformations"
   ]
  },
  {
   "cell_type": "markdown",
   "metadata": {},
   "source": [
    "The log transformation increases the contrast of the low intensities in an image by stretching a narrow range of these low intensities into a wider range of intensities. However, the opposite is taking place regarding the high intensities.\n",
    "\n",
    "Refer to [`exposure.adjust_log()`](http://scikit-image.org/docs/dev/api/skimage.exposure.html#adjust-log) for the use of this function.\n",
    "\n",
    "We recall the transformation function $s = c \\log(1 + r)$. We illustrate this transformation by varying the parameter $c$."
   ]
  },
  {
   "cell_type": "code",
   "execution_count": null,
   "metadata": {
    "collapsed": false
   },
   "outputs": [],
   "source": [
    "# Define a set of 256 values ranging from 0 to 255\n",
    "x = np.arange(255, dtype='uint8')\n",
    "\n",
    "# Define the parameter c\n",
    "c = np.linspace(.1, 1.2, num=10)\n",
    "\n",
    "# Plot the transform function\n",
    "plt.figure()\n",
    "for c_par in c:\n",
    "    plt.plot(x, exposure.adjust_log(x, gain = c_par))\n",
    "plt.xlabel('Input intensities')\n",
    "plt.ylabel('Output intensities')\n",
    "plt.title('Log transformation function')\n",
    "plt.axis('tight')\n",
    "plt.show()"
   ]
  },
  {
   "cell_type": "markdown",
   "metadata": {},
   "source": [
    "**Now this is your turn to make this transformation on a real image by using lena-im-float.**\n",
    "\n",
    "Additionaly, we provide the code to show the histogram of the image. \n",
    "\n",
    "Later, use the log to increase the contrast of the magnitude image. Display the resulting image as well as its histogram."
   ]
  },
  {
   "cell_type": "code",
   "execution_count": null,
   "metadata": {
    "collapsed": true
   },
   "outputs": [],
   "source": [
    "filename = './images/lena-grey.bmp'\n",
    "lena_im = io.imread(filename)\n",
    "from skimage import img_as_float\n",
    "lena_im_float = img_as_float(lena_im)"
   ]
  },
  {
   "cell_type": "code",
   "execution_count": null,
   "metadata": {
    "collapsed": false
   },
   "outputs": [],
   "source": [
    "## your code goes here \n",
    "\n",
    "# Provided code to show the histogram\n",
    "plt.figure()\n",
    "n, bins, patches = plt.hist(lena_im_mag_log.flatten(), 256, range=(0., np.max(lena_im_mag_log.flatten())),\n",
    "                            normed=1, histtype='stepfilled')"
   ]
  },
  {
   "cell_type": "markdown",
   "metadata": {},
   "source": [
    "**Note:** A good example where you can see the improvement and changes is to use the magnitude of the  Discrete Fourier Transform (DFT) of the image.\n",
    "In order to get this image: \n",
    "1. Apply the `np.fft.fft2()` to get the fourier image\n",
    "2. Magnitute are provided by the absolute values of this image\n",
    "3. In order to move the center of the frequency to the center of the image we can apply `np.fft.fftshift()`\n",
    "\n",
    "Now you can repeat the previous process on the magnitude image. "
   ]
  },
  {
   "cell_type": "code",
   "execution_count": null,
   "metadata": {
    "collapsed": true
   },
   "outputs": [],
   "source": [
    "# Compute the Fourier transform an get the magnitude and display it\n",
    "lena_im_fft = np.fft.fft2(lena_im_float)\n",
    "lena_im_mag = np.fft.fftshift(np.abs(lena_im_fft))"
   ]
  },
  {
   "cell_type": "code",
   "execution_count": null,
   "metadata": {
    "collapsed": true
   },
   "outputs": [],
   "source": []
  },
  {
   "cell_type": "markdown",
   "metadata": {},
   "source": [
    "Note that you can compute the inverse function using the input argument `inv=True`. "
   ]
  },
  {
   "cell_type": "markdown",
   "metadata": {},
   "source": [
    "#### Power-Law (Gamma) transformation"
   ]
  },
  {
   "cell_type": "markdown",
   "metadata": {},
   "source": [
    "By looking at the log transformation formulation, there is no ideal way to change the slope of the function. The gamma transformation offer this modulation using a parameter $\\gamma$. The transformation function can be formulated as $s = cr^{\\gamma}$.\n",
    "\n",
    "We illustrate this transformation by varying the parameter $\\gamma$."
   ]
  },
  {
   "cell_type": "code",
   "execution_count": null,
   "metadata": {
    "collapsed": false
   },
   "outputs": [],
   "source": [
    "# Define a set of 256 values ranging from 0 to 255\n",
    "x = np.arange(256, dtype='uint8')\n",
    "\n",
    "# Define the parameter c\n",
    "gamma = np.logspace(-1, 1., num=20)\n",
    "\n",
    "# Plot the transform function\n",
    "plt.figure()\n",
    "for g in gamma:\n",
    "    plt.plot(x, exposure.adjust_gamma(x, gamma=g, gain=1.))\n",
    "plt.xlabel('Input intensities')\n",
    "plt.ylabel('Output intensities')\n",
    "plt.title('Gamma transformation function')\n",
    "plt.axis('tight')\n",
    "plt.show()"
   ]
  },
  {
   "cell_type": "markdown",
   "metadata": {},
   "source": [
    "**Use the gamma function to enhance the  magnitude image for 10 different values of $\\gamma$.**"
   ]
  },
  {
   "cell_type": "code",
   "execution_count": null,
   "metadata": {
    "collapsed": false
   },
   "outputs": [],
   "source": []
  },
  {
   "cell_type": "markdown",
   "metadata": {},
   "source": [
    "#### Sigmoid transformation"
   ]
  },
  {
   "cell_type": "markdown",
   "metadata": {},
   "source": [
    "We did not presented this function during the lecture. However, it can be used to enhance the contrast in images.\n",
    "\n",
    "The transformation function is formulated as $s = \\frac{1}{1 + \\exp{\\left(c(t - r)\\right)}}$.\n",
    "\n",
    "We will illustrate the function by varying the parameter $t$."
   ]
  },
  {
   "cell_type": "code",
   "execution_count": null,
   "metadata": {
    "collapsed": false
   },
   "outputs": [],
   "source": [
    "# Define a set of 256 values ranging from 0 to 255\n",
    "x = np.arange(256, dtype='float')\n",
    "\n",
    "# Define the parameter c\n",
    "cut_off = np.linspace(100., 200., num=5)\n",
    "\n",
    "# Plot the transform function\n",
    "plt.figure()\n",
    "for t in cut_off:\n",
    "    plt.plot(x, exposure.adjust_sigmoid(x, cutoff=t, gain=.1))\n",
    "plt.xlabel('Input intensities')\n",
    "plt.ylabel('Output intensities')\n",
    "plt.title('Sigmoid transformation function')\n",
    "plt.axis('tight')\n",
    "plt.show()"
   ]
  },
  {
   "cell_type": "markdown",
   "metadata": {},
   "source": [
    "**Improve the contrast of the image `satellite.jpg` by setting the cut-off, once you observe the histogram of the image. You can set a gain equal to 10.**"
   ]
  },
  {
   "cell_type": "code",
   "execution_count": null,
   "metadata": {
    "collapsed": false
   },
   "outputs": [],
   "source": []
  },
  {
   "cell_type": "markdown",
   "metadata": {},
   "source": [
    "#### Contrast stretching"
   ]
  },
  {
   "cell_type": "markdown",
   "metadata": {},
   "source": [
    "Taking the satellite image as an example, it can be noticed that the intensitites are included in the range [0.6, 0.8]. A simple contrast stretching can be used to map the value of the intensity range [0.0, 1.0].\n",
    "\n",
    "The function `exposure.rescale_intensity` is devoted for this purpose.\n",
    "\n",
    "**Stretch the intensity value using this function.**"
   ]
  },
  {
   "cell_type": "code",
   "execution_count": null,
   "metadata": {
    "collapsed": false
   },
   "outputs": [],
   "source": []
  },
  {
   "cell_type": "markdown",
   "metadata": {},
   "source": [
    "### Histogram processing"
   ]
  },
  {
   "cell_type": "markdown",
   "metadata": {},
   "source": [
    "#### Histogram equalization"
   ]
  },
  {
   "cell_type": "markdown",
   "metadata": {},
   "source": [
    "Histogram equalization can be used to enhance the contrast in images.\n",
    "\n",
    "The idea behind the histogram equalization process is that each gray level should have an equal contribution in the image. The function allowing such transformation is in fact the cumulative density function.\n",
    "\n",
    "The `exposure.equalize_hist` provide an optimized implementation for such processing. \n",
    "\n",
    "**Equalize the histogram of the satellite image.**"
   ]
  },
  {
   "cell_type": "code",
   "execution_count": null,
   "metadata": {
    "collapsed": false
   },
   "outputs": [],
   "source": []
  },
  {
   "cell_type": "markdown",
   "metadata": {},
   "source": [
    "#### Adaptive (local) histogram equalization"
   ]
  },
  {
   "cell_type": "markdown",
   "metadata": {},
   "source": [
    "The histogram equalization is a global process. The adaptive version allows to perform the histogram equalization for local areas. The contrast will be enhanced in dark and light area of an image which was not possible with the global processing.\n",
    "\n",
    "The `exposure.equalize_adapthist` function corresponds to this processing in the `skimage`.\n",
    "\n",
    "**Apply this algorithm for the satellite image with the default parameters regarding the region definition.**"
   ]
  },
  {
   "cell_type": "code",
   "execution_count": null,
   "metadata": {
    "collapsed": false
   },
   "outputs": [],
   "source": []
  },
  {
   "cell_type": "markdown",
   "metadata": {},
   "source": [
    "Compare the results obtained with the global version of histogram equalization. Compare also the histogram obtained."
   ]
  }
 ],
 "metadata": {
  "anaconda-cloud": {},
  "kernelspec": {
   "display_name": "Python [default]",
   "language": "python",
   "name": "python3"
  },
  "language_info": {
   "codemirror_mode": {
    "name": "ipython",
    "version": 3
   },
   "file_extension": ".py",
   "mimetype": "text/x-python",
   "name": "python",
   "nbconvert_exporter": "python",
   "pygments_lexer": "ipython3",
   "version": "3.5.2"
  }
 },
 "nbformat": 4,
 "nbformat_minor": 0
}
